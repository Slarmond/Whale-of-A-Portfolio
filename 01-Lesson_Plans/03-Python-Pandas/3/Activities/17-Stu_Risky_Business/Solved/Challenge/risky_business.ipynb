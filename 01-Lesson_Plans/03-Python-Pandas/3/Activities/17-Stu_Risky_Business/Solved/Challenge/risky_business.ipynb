{
 "cells": [
  {
   "cell_type": "markdown",
   "metadata": {},
   "source": [
    "# Risky Business"
   ]
  },
  {
   "cell_type": "markdown",
   "metadata": {},
   "source": [
    "Harold has been boasting about his recent cryptocurrency returns. He's even bet you five bucks that his trading algorithm has made his returns better than yours. Calculate the standard deviation and sharpe ratio for each your portfolios to determine which portfolio is the better investment based off of the greatest risk to reward ratio."
   ]
  },
  {
   "cell_type": "code",
   "execution_count": 17,
   "metadata": {},
   "outputs": [],
   "source": [
    "import pandas as pd\n",
    "import numpy as np\n",
    "from pathlib import Path\n",
    "%matplotlib inline"
   ]
  },
  {
   "cell_type": "markdown",
   "metadata": {},
   "source": [
    "### Read in data"
   ]
  },
  {
   "cell_type": "code",
   "execution_count": 18,
   "metadata": {},
   "outputs": [
    {
     "data": {
      "text/html": [
       "<div>\n",
       "<style scoped>\n",
       "    .dataframe tbody tr th:only-of-type {\n",
       "        vertical-align: middle;\n",
       "    }\n",
       "\n",
       "    .dataframe tbody tr th {\n",
       "        vertical-align: top;\n",
       "    }\n",
       "\n",
       "    .dataframe thead th {\n",
       "        text-align: right;\n",
       "    }\n",
       "</style>\n",
       "<table border=\"1\" class=\"dataframe\">\n",
       "  <thead>\n",
       "    <tr style=\"text-align: right;\">\n",
       "      <th></th>\n",
       "      <th>BTC</th>\n",
       "      <th>BTT</th>\n",
       "      <th>DOGE</th>\n",
       "      <th>ETH</th>\n",
       "      <th>LTC</th>\n",
       "      <th>XRP</th>\n",
       "      <th>SOLVE</th>\n",
       "      <th>XLM</th>\n",
       "      <th>TRON</th>\n",
       "      <th>ZIL</th>\n",
       "    </tr>\n",
       "    <tr>\n",
       "      <th>Date</th>\n",
       "      <th></th>\n",
       "      <th></th>\n",
       "      <th></th>\n",
       "      <th></th>\n",
       "      <th></th>\n",
       "      <th></th>\n",
       "      <th></th>\n",
       "      <th></th>\n",
       "      <th></th>\n",
       "      <th></th>\n",
       "    </tr>\n",
       "  </thead>\n",
       "  <tbody>\n",
       "    <tr>\n",
       "      <th>2019-05-15</th>\n",
       "      <td>8203.32</td>\n",
       "      <td>0.000852</td>\n",
       "      <td>0.003308</td>\n",
       "      <td>217.44</td>\n",
       "      <td>91.69</td>\n",
       "      <td>0.456005</td>\n",
       "      <td>0.224973</td>\n",
       "      <td>0.137002</td>\n",
       "      <td>0.031348</td>\n",
       "      <td>0.020377</td>\n",
       "    </tr>\n",
       "    <tr>\n",
       "      <th>2019-05-16</th>\n",
       "      <td>7878.96</td>\n",
       "      <td>0.000885</td>\n",
       "      <td>0.003168</td>\n",
       "      <td>249.00</td>\n",
       "      <td>102.26</td>\n",
       "      <td>0.419707</td>\n",
       "      <td>0.223316</td>\n",
       "      <td>0.137283</td>\n",
       "      <td>0.028857</td>\n",
       "      <td>0.018725</td>\n",
       "    </tr>\n",
       "    <tr>\n",
       "      <th>2019-05-17</th>\n",
       "      <td>7363.69</td>\n",
       "      <td>0.000957</td>\n",
       "      <td>0.002962</td>\n",
       "      <td>264.39</td>\n",
       "      <td>95.75</td>\n",
       "      <td>0.386193</td>\n",
       "      <td>0.259506</td>\n",
       "      <td>0.126562</td>\n",
       "      <td>0.027220</td>\n",
       "      <td>0.017892</td>\n",
       "    </tr>\n",
       "    <tr>\n",
       "      <th>2019-05-18</th>\n",
       "      <td>7262.40</td>\n",
       "      <td>0.000993</td>\n",
       "      <td>0.003005</td>\n",
       "      <td>244.59</td>\n",
       "      <td>89.88</td>\n",
       "      <td>0.372736</td>\n",
       "      <td>0.287630</td>\n",
       "      <td>0.128833</td>\n",
       "      <td>0.026823</td>\n",
       "      <td>0.017685</td>\n",
       "    </tr>\n",
       "    <tr>\n",
       "      <th>2019-05-19</th>\n",
       "      <td>8200.00</td>\n",
       "      <td>0.001056</td>\n",
       "      <td>0.003178</td>\n",
       "      <td>234.03</td>\n",
       "      <td>86.65</td>\n",
       "      <td>0.417700</td>\n",
       "      <td>0.300430</td>\n",
       "      <td>0.141485</td>\n",
       "      <td>0.029277</td>\n",
       "      <td>0.019170</td>\n",
       "    </tr>\n",
       "  </tbody>\n",
       "</table>\n",
       "</div>"
      ],
      "text/plain": [
       "                BTC       BTT      DOGE     ETH     LTC       XRP     SOLVE  \\\n",
       "Date                                                                          \n",
       "2019-05-15  8203.32  0.000852  0.003308  217.44   91.69  0.456005  0.224973   \n",
       "2019-05-16  7878.96  0.000885  0.003168  249.00  102.26  0.419707  0.223316   \n",
       "2019-05-17  7363.69  0.000957  0.002962  264.39   95.75  0.386193  0.259506   \n",
       "2019-05-18  7262.40  0.000993  0.003005  244.59   89.88  0.372736  0.287630   \n",
       "2019-05-19  8200.00  0.001056  0.003178  234.03   86.65  0.417700  0.300430   \n",
       "\n",
       "                 XLM      TRON       ZIL  \n",
       "Date                                      \n",
       "2019-05-15  0.137002  0.031348  0.020377  \n",
       "2019-05-16  0.137283  0.028857  0.018725  \n",
       "2019-05-17  0.126562  0.027220  0.017892  \n",
       "2019-05-18  0.128833  0.026823  0.017685  \n",
       "2019-05-19  0.141485  0.029277  0.019170  "
      ]
     },
     "execution_count": 18,
     "metadata": {},
     "output_type": "execute_result"
    }
   ],
   "source": [
    "harold_portfolio_path = Path(\"../../Resources/harold_portfolio.csv\")\n",
    "my_portfolio_path = Path(\"../../Resources/my_portfolio.csv\")\n",
    "\n",
    "# Read in data\n",
    "harold_portfolio = pd.read_csv(harold_portfolio_path, parse_dates=True, infer_datetime_format=True)\n",
    "my_portfolio = pd.read_csv(my_portfolio_path, parse_dates=True, infer_datetime_format=True)\n",
    "\n",
    "# Drop na\n",
    "harold_portfolio = harold_portfolio.dropna()\n",
    "my_portfolio = my_portfolio.dropna()\n",
    "\n",
    "# Set Date as index\n",
    "harold_portfolio = harold_portfolio.set_index('Date')\n",
    "my_portfolio = my_portfolio.set_index('Date')\n",
    "\n",
    "harold_portfolio = harold_portfolio.sort_index(ascending=True)\n",
    "my_portfolio = my_portfolio.sort_index(ascending=True)\n",
    "\n",
    "harold_portfolio.head()"
   ]
  },
  {
   "cell_type": "code",
   "execution_count": 19,
   "metadata": {},
   "outputs": [
    {
     "data": {
      "text/html": [
       "<div>\n",
       "<style scoped>\n",
       "    .dataframe tbody tr th:only-of-type {\n",
       "        vertical-align: middle;\n",
       "    }\n",
       "\n",
       "    .dataframe tbody tr th {\n",
       "        vertical-align: top;\n",
       "    }\n",
       "\n",
       "    .dataframe thead th {\n",
       "        text-align: right;\n",
       "    }\n",
       "</style>\n",
       "<table border=\"1\" class=\"dataframe\">\n",
       "  <thead>\n",
       "    <tr style=\"text-align: right;\">\n",
       "      <th></th>\n",
       "      <th>BTC</th>\n",
       "      <th>DOGE</th>\n",
       "      <th>ETH</th>\n",
       "      <th>LTC</th>\n",
       "      <th>XRP</th>\n",
       "      <th>XLM</th>\n",
       "    </tr>\n",
       "    <tr>\n",
       "      <th>Date</th>\n",
       "      <th></th>\n",
       "      <th></th>\n",
       "      <th></th>\n",
       "      <th></th>\n",
       "      <th></th>\n",
       "      <th></th>\n",
       "    </tr>\n",
       "  </thead>\n",
       "  <tbody>\n",
       "    <tr>\n",
       "      <th>2016-08-24</th>\n",
       "      <td>582.58</td>\n",
       "      <td>0.000236</td>\n",
       "      <td>10.98</td>\n",
       "      <td>3.95</td>\n",
       "      <td>0.005932</td>\n",
       "      <td>0.001912</td>\n",
       "    </tr>\n",
       "    <tr>\n",
       "      <th>2016-08-25</th>\n",
       "      <td>578.92</td>\n",
       "      <td>0.000241</td>\n",
       "      <td>11.00</td>\n",
       "      <td>3.84</td>\n",
       "      <td>0.005912</td>\n",
       "      <td>0.001925</td>\n",
       "    </tr>\n",
       "    <tr>\n",
       "      <th>2016-08-26</th>\n",
       "      <td>576.16</td>\n",
       "      <td>0.000242</td>\n",
       "      <td>11.34</td>\n",
       "      <td>3.81</td>\n",
       "      <td>0.005892</td>\n",
       "      <td>0.001925</td>\n",
       "    </tr>\n",
       "    <tr>\n",
       "      <th>2016-08-27</th>\n",
       "      <td>578.89</td>\n",
       "      <td>0.000228</td>\n",
       "      <td>11.29</td>\n",
       "      <td>3.81</td>\n",
       "      <td>0.005902</td>\n",
       "      <td>0.001931</td>\n",
       "    </tr>\n",
       "    <tr>\n",
       "      <th>2016-08-28</th>\n",
       "      <td>570.42</td>\n",
       "      <td>0.000230</td>\n",
       "      <td>11.21</td>\n",
       "      <td>3.78</td>\n",
       "      <td>0.005869</td>\n",
       "      <td>0.002020</td>\n",
       "    </tr>\n",
       "  </tbody>\n",
       "</table>\n",
       "</div>"
      ],
      "text/plain": [
       "               BTC      DOGE    ETH   LTC       XRP       XLM\n",
       "Date                                                         \n",
       "2016-08-24  582.58  0.000236  10.98  3.95  0.005932  0.001912\n",
       "2016-08-25  578.92  0.000241  11.00  3.84  0.005912  0.001925\n",
       "2016-08-26  576.16  0.000242  11.34  3.81  0.005892  0.001925\n",
       "2016-08-27  578.89  0.000228  11.29  3.81  0.005902  0.001931\n",
       "2016-08-28  570.42  0.000230  11.21  3.78  0.005869  0.002020"
      ]
     },
     "execution_count": 19,
     "metadata": {},
     "output_type": "execute_result"
    }
   ],
   "source": [
    "my_portfolio.head()"
   ]
  },
  {
   "cell_type": "markdown",
   "metadata": {},
   "source": [
    "### Calculate daily returns "
   ]
  },
  {
   "cell_type": "code",
   "execution_count": 20,
   "metadata": {},
   "outputs": [
    {
     "data": {
      "text/html": [
       "<div>\n",
       "<style scoped>\n",
       "    .dataframe tbody tr th:only-of-type {\n",
       "        vertical-align: middle;\n",
       "    }\n",
       "\n",
       "    .dataframe tbody tr th {\n",
       "        vertical-align: top;\n",
       "    }\n",
       "\n",
       "    .dataframe thead th {\n",
       "        text-align: right;\n",
       "    }\n",
       "</style>\n",
       "<table border=\"1\" class=\"dataframe\">\n",
       "  <thead>\n",
       "    <tr style=\"text-align: right;\">\n",
       "      <th></th>\n",
       "      <th>BTC</th>\n",
       "      <th>BTT</th>\n",
       "      <th>DOGE</th>\n",
       "      <th>ETH</th>\n",
       "      <th>LTC</th>\n",
       "      <th>XRP</th>\n",
       "      <th>SOLVE</th>\n",
       "      <th>XLM</th>\n",
       "      <th>TRON</th>\n",
       "      <th>ZIL</th>\n",
       "    </tr>\n",
       "    <tr>\n",
       "      <th>Date</th>\n",
       "      <th></th>\n",
       "      <th></th>\n",
       "      <th></th>\n",
       "      <th></th>\n",
       "      <th></th>\n",
       "      <th></th>\n",
       "      <th></th>\n",
       "      <th></th>\n",
       "      <th></th>\n",
       "      <th></th>\n",
       "    </tr>\n",
       "  </thead>\n",
       "  <tbody>\n",
       "    <tr>\n",
       "      <th>2019-05-16</th>\n",
       "      <td>-0.039540</td>\n",
       "      <td>0.038732</td>\n",
       "      <td>-0.042322</td>\n",
       "      <td>0.145143</td>\n",
       "      <td>0.115280</td>\n",
       "      <td>-0.079600</td>\n",
       "      <td>-0.007365</td>\n",
       "      <td>0.002051</td>\n",
       "      <td>-0.079463</td>\n",
       "      <td>-0.081072</td>\n",
       "    </tr>\n",
       "    <tr>\n",
       "      <th>2019-05-17</th>\n",
       "      <td>-0.065398</td>\n",
       "      <td>0.081356</td>\n",
       "      <td>-0.065025</td>\n",
       "      <td>0.061807</td>\n",
       "      <td>-0.063661</td>\n",
       "      <td>-0.079851</td>\n",
       "      <td>0.162057</td>\n",
       "      <td>-0.078094</td>\n",
       "      <td>-0.056728</td>\n",
       "      <td>-0.044486</td>\n",
       "    </tr>\n",
       "    <tr>\n",
       "      <th>2019-05-18</th>\n",
       "      <td>-0.013755</td>\n",
       "      <td>0.037618</td>\n",
       "      <td>0.014517</td>\n",
       "      <td>-0.074889</td>\n",
       "      <td>-0.061305</td>\n",
       "      <td>-0.034845</td>\n",
       "      <td>0.108375</td>\n",
       "      <td>0.017944</td>\n",
       "      <td>-0.014585</td>\n",
       "      <td>-0.011569</td>\n",
       "    </tr>\n",
       "    <tr>\n",
       "      <th>2019-05-19</th>\n",
       "      <td>0.129103</td>\n",
       "      <td>0.063444</td>\n",
       "      <td>0.057571</td>\n",
       "      <td>-0.043174</td>\n",
       "      <td>-0.035937</td>\n",
       "      <td>0.120632</td>\n",
       "      <td>0.044502</td>\n",
       "      <td>0.098205</td>\n",
       "      <td>0.091489</td>\n",
       "      <td>0.083969</td>\n",
       "    </tr>\n",
       "    <tr>\n",
       "      <th>2019-05-20</th>\n",
       "      <td>-0.009952</td>\n",
       "      <td>0.124053</td>\n",
       "      <td>-0.043109</td>\n",
       "      <td>0.115626</td>\n",
       "      <td>0.097057</td>\n",
       "      <td>-0.047156</td>\n",
       "      <td>0.127274</td>\n",
       "      <td>-0.041983</td>\n",
       "      <td>-0.026232</td>\n",
       "      <td>-0.061450</td>\n",
       "    </tr>\n",
       "  </tbody>\n",
       "</table>\n",
       "</div>"
      ],
      "text/plain": [
       "                 BTC       BTT      DOGE       ETH       LTC       XRP  \\\n",
       "Date                                                                     \n",
       "2019-05-16 -0.039540  0.038732 -0.042322  0.145143  0.115280 -0.079600   \n",
       "2019-05-17 -0.065398  0.081356 -0.065025  0.061807 -0.063661 -0.079851   \n",
       "2019-05-18 -0.013755  0.037618  0.014517 -0.074889 -0.061305 -0.034845   \n",
       "2019-05-19  0.129103  0.063444  0.057571 -0.043174 -0.035937  0.120632   \n",
       "2019-05-20 -0.009952  0.124053 -0.043109  0.115626  0.097057 -0.047156   \n",
       "\n",
       "               SOLVE       XLM      TRON       ZIL  \n",
       "Date                                                \n",
       "2019-05-16 -0.007365  0.002051 -0.079463 -0.081072  \n",
       "2019-05-17  0.162057 -0.078094 -0.056728 -0.044486  \n",
       "2019-05-18  0.108375  0.017944 -0.014585 -0.011569  \n",
       "2019-05-19  0.044502  0.098205  0.091489  0.083969  \n",
       "2019-05-20  0.127274 -0.041983 -0.026232 -0.061450  "
      ]
     },
     "execution_count": 20,
     "metadata": {},
     "output_type": "execute_result"
    }
   ],
   "source": [
    "# Calculate daily returns for each portfolio\n",
    "harold_returns = harold_portfolio.pct_change().dropna()\n",
    "my_returns = my_portfolio.pct_change().dropna()\n",
    "harold_returns.head()"
   ]
  },
  {
   "cell_type": "markdown",
   "metadata": {},
   "source": [
    "### `Concat` portfolios into one DataFrame"
   ]
  },
  {
   "cell_type": "code",
   "execution_count": 21,
   "metadata": {},
   "outputs": [
    {
     "data": {
      "text/html": [
       "<div>\n",
       "<style scoped>\n",
       "    .dataframe tbody tr th:only-of-type {\n",
       "        vertical-align: middle;\n",
       "    }\n",
       "\n",
       "    .dataframe tbody tr th {\n",
       "        vertical-align: top;\n",
       "    }\n",
       "\n",
       "    .dataframe thead th {\n",
       "        text-align: right;\n",
       "    }\n",
       "</style>\n",
       "<table border=\"1\" class=\"dataframe\">\n",
       "  <thead>\n",
       "    <tr style=\"text-align: right;\">\n",
       "      <th></th>\n",
       "      <th>BTC</th>\n",
       "      <th>BTT</th>\n",
       "      <th>DOGE</th>\n",
       "      <th>ETH</th>\n",
       "      <th>LTC</th>\n",
       "      <th>XRP</th>\n",
       "      <th>SOLVE</th>\n",
       "      <th>XLM</th>\n",
       "      <th>TRON</th>\n",
       "      <th>ZIL</th>\n",
       "      <th>BTC</th>\n",
       "      <th>DOGE</th>\n",
       "      <th>ETH</th>\n",
       "      <th>LTC</th>\n",
       "      <th>XRP</th>\n",
       "      <th>XLM</th>\n",
       "    </tr>\n",
       "    <tr>\n",
       "      <th>Date</th>\n",
       "      <th></th>\n",
       "      <th></th>\n",
       "      <th></th>\n",
       "      <th></th>\n",
       "      <th></th>\n",
       "      <th></th>\n",
       "      <th></th>\n",
       "      <th></th>\n",
       "      <th></th>\n",
       "      <th></th>\n",
       "      <th></th>\n",
       "      <th></th>\n",
       "      <th></th>\n",
       "      <th></th>\n",
       "      <th></th>\n",
       "      <th></th>\n",
       "    </tr>\n",
       "  </thead>\n",
       "  <tbody>\n",
       "    <tr>\n",
       "      <th>2019-05-16</th>\n",
       "      <td>-0.039540</td>\n",
       "      <td>0.038732</td>\n",
       "      <td>-0.042322</td>\n",
       "      <td>0.145143</td>\n",
       "      <td>0.115280</td>\n",
       "      <td>-0.079600</td>\n",
       "      <td>-0.007365</td>\n",
       "      <td>0.002051</td>\n",
       "      <td>-0.079463</td>\n",
       "      <td>-0.081072</td>\n",
       "      <td>0.026580</td>\n",
       "      <td>-0.042322</td>\n",
       "      <td>0.145143</td>\n",
       "      <td>0.115280</td>\n",
       "      <td>-0.079600</td>\n",
       "      <td>0.002051</td>\n",
       "    </tr>\n",
       "    <tr>\n",
       "      <th>2019-05-17</th>\n",
       "      <td>-0.065398</td>\n",
       "      <td>0.081356</td>\n",
       "      <td>-0.065025</td>\n",
       "      <td>0.061807</td>\n",
       "      <td>-0.063661</td>\n",
       "      <td>-0.079851</td>\n",
       "      <td>0.162057</td>\n",
       "      <td>-0.078094</td>\n",
       "      <td>-0.056728</td>\n",
       "      <td>-0.044486</td>\n",
       "      <td>-0.039540</td>\n",
       "      <td>-0.065025</td>\n",
       "      <td>0.061807</td>\n",
       "      <td>-0.063661</td>\n",
       "      <td>-0.079851</td>\n",
       "      <td>-0.078094</td>\n",
       "    </tr>\n",
       "    <tr>\n",
       "      <th>2019-05-18</th>\n",
       "      <td>-0.013755</td>\n",
       "      <td>0.037618</td>\n",
       "      <td>0.014517</td>\n",
       "      <td>-0.074889</td>\n",
       "      <td>-0.061305</td>\n",
       "      <td>-0.034845</td>\n",
       "      <td>0.108375</td>\n",
       "      <td>0.017944</td>\n",
       "      <td>-0.014585</td>\n",
       "      <td>-0.011569</td>\n",
       "      <td>-0.065398</td>\n",
       "      <td>0.014517</td>\n",
       "      <td>-0.074889</td>\n",
       "      <td>-0.061305</td>\n",
       "      <td>-0.034845</td>\n",
       "      <td>0.017944</td>\n",
       "    </tr>\n",
       "    <tr>\n",
       "      <th>2019-05-19</th>\n",
       "      <td>0.129103</td>\n",
       "      <td>0.063444</td>\n",
       "      <td>0.057571</td>\n",
       "      <td>-0.043174</td>\n",
       "      <td>-0.035937</td>\n",
       "      <td>0.120632</td>\n",
       "      <td>0.044502</td>\n",
       "      <td>0.098205</td>\n",
       "      <td>0.091489</td>\n",
       "      <td>0.083969</td>\n",
       "      <td>-0.013755</td>\n",
       "      <td>0.057571</td>\n",
       "      <td>-0.043174</td>\n",
       "      <td>-0.035937</td>\n",
       "      <td>0.120632</td>\n",
       "      <td>0.098205</td>\n",
       "    </tr>\n",
       "    <tr>\n",
       "      <th>2019-05-20</th>\n",
       "      <td>-0.009952</td>\n",
       "      <td>0.124053</td>\n",
       "      <td>-0.043109</td>\n",
       "      <td>0.115626</td>\n",
       "      <td>0.097057</td>\n",
       "      <td>-0.047156</td>\n",
       "      <td>0.127274</td>\n",
       "      <td>-0.041983</td>\n",
       "      <td>-0.026232</td>\n",
       "      <td>-0.061450</td>\n",
       "      <td>0.129103</td>\n",
       "      <td>-0.043109</td>\n",
       "      <td>0.115626</td>\n",
       "      <td>0.097057</td>\n",
       "      <td>-0.047156</td>\n",
       "      <td>-0.041983</td>\n",
       "    </tr>\n",
       "  </tbody>\n",
       "</table>\n",
       "</div>"
      ],
      "text/plain": [
       "                 BTC       BTT      DOGE       ETH       LTC       XRP  \\\n",
       "Date                                                                     \n",
       "2019-05-16 -0.039540  0.038732 -0.042322  0.145143  0.115280 -0.079600   \n",
       "2019-05-17 -0.065398  0.081356 -0.065025  0.061807 -0.063661 -0.079851   \n",
       "2019-05-18 -0.013755  0.037618  0.014517 -0.074889 -0.061305 -0.034845   \n",
       "2019-05-19  0.129103  0.063444  0.057571 -0.043174 -0.035937  0.120632   \n",
       "2019-05-20 -0.009952  0.124053 -0.043109  0.115626  0.097057 -0.047156   \n",
       "\n",
       "               SOLVE       XLM      TRON       ZIL       BTC      DOGE  \\\n",
       "Date                                                                     \n",
       "2019-05-16 -0.007365  0.002051 -0.079463 -0.081072  0.026580 -0.042322   \n",
       "2019-05-17  0.162057 -0.078094 -0.056728 -0.044486 -0.039540 -0.065025   \n",
       "2019-05-18  0.108375  0.017944 -0.014585 -0.011569 -0.065398  0.014517   \n",
       "2019-05-19  0.044502  0.098205  0.091489  0.083969 -0.013755  0.057571   \n",
       "2019-05-20  0.127274 -0.041983 -0.026232 -0.061450  0.129103 -0.043109   \n",
       "\n",
       "                 ETH       LTC       XRP       XLM  \n",
       "Date                                                \n",
       "2019-05-16  0.145143  0.115280 -0.079600  0.002051  \n",
       "2019-05-17  0.061807 -0.063661 -0.079851 -0.078094  \n",
       "2019-05-18 -0.074889 -0.061305 -0.034845  0.017944  \n",
       "2019-05-19 -0.043174 -0.035937  0.120632  0.098205  \n",
       "2019-05-20  0.115626  0.097057 -0.047156 -0.041983  "
      ]
     },
     "execution_count": 21,
     "metadata": {},
     "output_type": "execute_result"
    }
   ],
   "source": [
    "# Concat returns DataFrames\n",
    "all_returns = pd.concat([harold_returns,my_returns], axis='columns', join='inner')\n",
    "all_returns.head()"
   ]
  },
  {
   "cell_type": "markdown",
   "metadata": {},
   "source": [
    "### Calculate `std dev` for all data"
   ]
  },
  {
   "cell_type": "code",
   "execution_count": 22,
   "metadata": {},
   "outputs": [
    {
     "data": {
      "text/plain": [
       "BTC     0.075492\n",
       "BTT     0.035761\n",
       "DOGE    0.050435\n",
       "ETH     0.096648\n",
       "LTC     0.088435\n",
       "dtype: float64"
      ]
     },
     "execution_count": 22,
     "metadata": {},
     "output_type": "execute_result"
    }
   ],
   "source": [
    "# Calculate std dev\n",
    "all_portfolio_std = all_returns.std()\n",
    "all_portfolio_std.head()"
   ]
  },
  {
   "cell_type": "markdown",
   "metadata": {},
   "source": [
    "### Calculate `sharpe ratio` for all data"
   ]
  },
  {
   "cell_type": "code",
   "execution_count": 23,
   "metadata": {},
   "outputs": [
    {
     "data": {
      "text/plain": [
       "BTC      0.019230\n",
       "BTT     30.647647\n",
       "DOGE    -4.933319\n",
       "ETH      6.718279\n",
       "LTC      1.846506\n",
       "dtype: float64"
      ]
     },
     "execution_count": 23,
     "metadata": {},
     "output_type": "execute_result"
    }
   ],
   "source": [
    "# Calculate sharpe ratio\n",
    "sharpe_ratios = (all_returns.mean() * 252) / (all_portfolio_std * np.sqrt(252))\n",
    "sharpe_ratios.head()"
   ]
  },
  {
   "cell_type": "markdown",
   "metadata": {},
   "source": [
    "### Plot Sharpe Ratios"
   ]
  },
  {
   "cell_type": "code",
   "execution_count": 24,
   "metadata": {},
   "outputs": [
    {
     "data": {
      "text/plain": [
       "<AxesSubplot:title={'center':'Sharpe Ratios'}>"
      ]
     },
     "execution_count": 24,
     "metadata": {},
     "output_type": "execute_result"
    },
    {
     "data": {
      "image/png": "[encoded data removed]",
      "text/plain": [
       "<Figure size 432x288 with 1 Axes>"
      ]
     },
     "metadata": {
      "needs_background": "light"
     },
     "output_type": "display_data"
    }
   ],
   "source": [
    "# Plot\n",
    "sharpe_ratios.plot.bar(title='Sharpe Ratios')"
   ]
  },
  {
   "cell_type": "markdown",
   "metadata": {},
   "source": [
    "### How many smart investments did Harold make compared to risky investments? How many did you make?"
   ]
  },
  {
   "cell_type": "markdown",
   "metadata": {},
   "source": [
    "Out of his 10 investments, Harold only made 4 good investments. Out of the students' 6 investments, 3 of them were smart investments."
   ]
  },
  {
   "cell_type": "markdown",
   "metadata": {},
   "source": [
    "### Which cryptos have been the smartest investment?"
   ]
  },
  {
   "cell_type": "markdown",
   "metadata": {},
   "source": [
    "DOGE, TRON, and XML have been the smartest crypto investments."
   ]
  },
  {
   "cell_type": "markdown",
   "metadata": {},
   "source": [
    "### Calculate annualized std dev for each portfolio individually"
   ]
  },
  {
   "cell_type": "code",
   "execution_count": 25,
   "metadata": {},
   "outputs": [
    {
     "data": {
      "text/plain": [
       "BTC      1.198400\n",
       "BTT      0.567686\n",
       "DOGE     0.800625\n",
       "ETH      1.534242\n",
       "LTC      1.403862\n",
       "XRP      1.322997\n",
       "SOLVE    1.077347\n",
       "XLM      1.059881\n",
       "TRON     1.045211\n",
       "ZIL      1.031400\n",
       "dtype: float64"
      ]
     },
     "execution_count": 25,
     "metadata": {},
     "output_type": "execute_result"
    }
   ],
   "source": [
    "# Calculate std dev for all investments for each portfolio\n",
    "harold_std_annual = harold_returns.std() * np.sqrt(252)\n",
    "my_std_annual = my_returns.std() * np.sqrt(252)\n",
    "\n",
    "harold_std_annual"
   ]
  },
  {
   "cell_type": "markdown",
   "metadata": {},
   "source": [
    "### Calculate the sharpe ratios for each individual portfolio"
   ]
  },
  {
   "cell_type": "code",
   "execution_count": 26,
   "metadata": {},
   "outputs": [
    {
     "data": {
      "text/plain": [
       "BTC     1.332250\n",
       "DOGE    1.105764\n",
       "ETH     1.307897\n",
       "LTC     1.221064\n",
       "XRP     1.281543\n",
       "dtype: float64"
      ]
     },
     "execution_count": 26,
     "metadata": {},
     "output_type": "execute_result"
    }
   ],
   "source": [
    "# Calculate sharpe ratio\n",
    "harold_sharpe_ratios = (harold_returns.mean() * 252) / (harold_std_annual)\n",
    "my_sharpe_ratios = (my_returns.mean() * 252) / (my_std_annual)\n",
    "\n",
    "my_sharpe_ratios.head()"
   ]
  },
  {
   "cell_type": "markdown",
   "metadata": {},
   "source": [
    "### Average sharpe ratios for each portfolio and output to screen"
   ]
  },
  {
   "cell_type": "code",
   "execution_count": 27,
   "metadata": {},
   "outputs": [
    {
     "name": "stdout",
     "output_type": "stream",
     "text": [
      "Harold's sharpe ratio average: 4.022490016642652\n",
      "My sharpe ratio average: 1.2661366446518427\n"
     ]
    }
   ],
   "source": [
    "# Averaging sharpe ratios\n",
    "harold_sharpe_avg = harold_sharpe_ratios.mean()\n",
    "my_sharpe_avg = my_sharpe_ratios.mean()\n",
    "\n",
    "print(\"Harold's sharpe ratio average:\", harold_sharpe_avg)\n",
    "print(\"My sharpe ratio average:\", my_sharpe_avg)"
   ]
  },
  {
   "cell_type": "markdown",
   "metadata": {},
   "source": [
    "### Compare Sharpe Ratios Averages"
   ]
  },
  {
   "cell_type": "code",
   "execution_count": 28,
   "metadata": {},
   "outputs": [
    {
     "data": {
      "text/plain": [
       "True"
      ]
     },
     "execution_count": 28,
     "metadata": {},
     "output_type": "execute_result"
    }
   ],
   "source": [
    "# Use comparison operator to determine if Harold's sharpe ratio avg is greater\n",
    "harold_sharpe_avg > my_sharpe_avg"
   ]
  },
  {
   "cell_type": "markdown",
   "metadata": {},
   "source": [
    "### Which portfolio is the smartest investment, based off of risk to reward ratio?"
   ]
  },
  {
   "cell_type": "markdown",
   "metadata": {},
   "source": [
    "My portfolio!"
   ]
  }
 ],
 "metadata": {
  "kernelspec": {
   "display_name": "Python 3",
   "language": "python",
   "name": "python3"
  },
  "language_info": {
   "codemirror_mode": {
    "name": "ipython",
    "version": 3
   },
   "file_extension": ".py",
   "mimetype": "text/x-python",
   "name": "python",
   "nbconvert_exporter": "python",
   "pygments_lexer": "ipython3",
   "version": "3.8.5"
  }
 },
 "nbformat": 4,
 "nbformat_minor": 4
}
