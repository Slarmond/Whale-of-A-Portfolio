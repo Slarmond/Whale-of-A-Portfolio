{
 "cells": [
  {
   "cell_type": "code",
   "execution_count": 1,
   "metadata": {},
   "outputs": [
    {
     "name": "stdout",
     "output_type": "stream",
     "text": [
      "Current Working Directory: /Users/jc/Desktop/github_bootcamp/01-Lesson-Plans/02-Python/3/Activities/08-Stu_File_IO/Solved\n"
     ]
    }
   ],
   "source": [
    "# From the pathlib library, import the main class Path\n",
    "from pathlib import Path\n",
    "\n",
    "# Check the current directory where the Python program is executing from\n",
    "print(f\"Current Working Directory: {Path.cwd()}\")\n",
    "\n",
    "# Set the path using Pathlib\n",
    "file = Path('../Resources/customer_traffic.txt')"
   ]
  },
  {
   "cell_type": "code",
   "execution_count": 2,
   "metadata": {},
   "outputs": [
    {
     "name": "stdout",
     "output_type": "stream",
     "text": [
      "customer_total: 4945\n",
      "day_count: 100\n",
      "-----------------------\n",
      "daily_average: 49.45\n"
     ]
    }
   ],
   "source": [
    "# Initialize variables\n",
    "customer_total = 0\n",
    "day_count = 0\n",
    "\n",
    "# Open the file in \"read\" mode ('r') and\n",
    "# store the contents in the variable 'file'\n",
    "with open(file, 'r') as file:\n",
    "    # Parse the file line by line\n",
    "    for line in file:\n",
    "\n",
    "        # Convert the number in the text file from string to int\n",
    "        number = int(line)\n",
    "\n",
    "        # Sum the total and count of the numbers in the text file\n",
    "        customer_total += number\n",
    "        day_count += 1\n",
    "\n",
    "# Print out customer_total and day_count\n",
    "print(f\"customer_total: {customer_total}\")\n",
    "print(f\"day_count: {day_count}\")\n",
    "print(\"-----------------------\")\n",
    "\n",
    "# Calculate the average\n",
    "daily_average = customer_total / day_count\n",
    "print(f\"daily_average: {daily_average}\")\n",
    "\n",
    "# Set output file name\n",
    "output_path = 'output.txt'\n",
    "\n",
    "# Open the output path as a file object\n",
    "with open(output_path, 'w') as file:\n",
    "    # Write daily_average to the output file, convert to string\n",
    "    file.write(f\"There were {customer_total} customers over the course of {day_count} days.\\n\")\n",
    "    file.write(f\"The average daily customer traffic is {daily_average} customers per day.\")\n",
    "\n"
   ]
  },
  {
   "cell_type": "code",
   "execution_count": null,
   "metadata": {},
   "outputs": [],
   "source": []
  }
 ],
 "metadata": {
  "kernelspec": {
   "display_name": "Python 3",
   "language": "python",
   "name": "python3"
  },
  "language_info": {
   "codemirror_mode": {
    "name": "ipython",
    "version": 3
   },
   "file_extension": ".py",
   "mimetype": "text/x-python",
   "name": "python",
   "nbconvert_exporter": "python",
   "pygments_lexer": "ipython3",
   "version": "3.8.5"
  }
 },
 "nbformat": 4,
 "nbformat_minor": 4
}
