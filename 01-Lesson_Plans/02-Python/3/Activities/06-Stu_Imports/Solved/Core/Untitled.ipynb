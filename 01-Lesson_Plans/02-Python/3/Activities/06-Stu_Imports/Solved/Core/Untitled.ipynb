{
 "cells": [
  {
   "cell_type": "code",
   "execution_count": 1,
   "metadata": {},
   "outputs": [
    {
     "ename": "ModuleNotFoundError",
     "evalue": "No module named 'numpy_financial'",
     "output_type": "error",
     "traceback": [
      "\u001b[0;31m---------------------------------------------------------------------------\u001b[0m",
      "\u001b[0;31mModuleNotFoundError\u001b[0m                       Traceback (most recent call last)",
      "\u001b[0;32m<ipython-input-1-890d5625ec7c>\u001b[0m in \u001b[0;36m<module>\u001b[0;34m\u001b[0m\n\u001b[1;32m      7\u001b[0m \u001b[0;34m\u001b[0m\u001b[0m\n\u001b[1;32m      8\u001b[0m \u001b[0;31m# Import the NumPy Financial library\u001b[0m\u001b[0;34m\u001b[0m\u001b[0;34m\u001b[0m\u001b[0;34m\u001b[0m\u001b[0m\n\u001b[0;32m----> 9\u001b[0;31m \u001b[0;32mimport\u001b[0m \u001b[0mnumpy_financial\u001b[0m \u001b[0;32mas\u001b[0m \u001b[0mnpf\u001b[0m\u001b[0;34m\u001b[0m\u001b[0;34m\u001b[0m\u001b[0m\n\u001b[0m\u001b[1;32m     10\u001b[0m \u001b[0;34m\u001b[0m\u001b[0m\n\u001b[1;32m     11\u001b[0m \u001b[0;31m# Discount Rate\u001b[0m\u001b[0;34m\u001b[0m\u001b[0;34m\u001b[0m\u001b[0;34m\u001b[0m\u001b[0m\n",
      "\u001b[0;31mModuleNotFoundError\u001b[0m: No module named 'numpy_financial'"
     ]
    }
   ],
   "source": [
    "# -*- coding: utf-8 -*-\n",
    "\"\"\"Student Activity: Financial Analysis using NPV.\n",
    "\n",
    "This script will choose the optimal project scenario to\n",
    "undertake based on max NPV values.\n",
    "\"\"\"\n",
    "\n",
    "# Import the NumPy Financial library\n",
    "import numpy_financial as npf\n",
    "\n",
    "# Discount Rate\n",
    "discount_rate = .1\n",
    "\n",
    "# Initial Investment, Cash Flow 1, Cash Flow 2, Cash Flow 3, Cash Flow 4\n",
    "cash_flows_conservative = [-1000, 400, 400, 400, 400]\n",
    "cash_flows_neutral = [-1500, 600, 600, 600, 600]\n",
    "cash_flows_aggressive = [-2250, 800, 800, 800, 800]\n",
    "\n",
    "# Initialize dictionary to hold NPV return values\n",
    "npv_dict = {}\n",
    "\n",
    "# Calculate the NPV for each scenario\n",
    "npv_dict['conservative'] = npf.npv(discount_rate, cash_flows_conservative)\n",
    "npv_dict['neutral'] = npf.npv(discount_rate, cash_flows_neutral)\n",
    "npv_dict['aggressive'] = npf.npv(discount_rate, cash_flows_aggressive)\n",
    "\n",
    "# Manually choose the project with the highest NPV value\n",
    "print(npv_dict)\n",
    "print(f\"The optimal project scenario to undertake is 'neutral' with a NPV of {npv_dict['neutral']}\")\n"
   ]
  },
  {
   "cell_type": "code",
   "execution_count": 3,
   "metadata": {},
   "outputs": [
    {
     "name": "stdout",
     "output_type": "stream",
     "text": [
      "Collecting numpy-financial\n",
      "  Downloading numpy_financial-1.0.0-py3-none-any.whl (14 kB)\n",
      "Requirement already satisfied: numpy>=1.15 in /Users/jc/opt/anaconda3/lib/python3.8/site-packages (from numpy-financial) (1.19.2)\n",
      "Installing collected packages: numpy-financial\n",
      "Successfully installed numpy-financial-1.0.0\n",
      "Note: you may need to restart the kernel to use updated packages.\n"
     ]
    }
   ],
   "source": [
    "pip install numpy-financial"
   ]
  },
  {
   "cell_type": "code",
   "execution_count": null,
   "metadata": {},
   "outputs": [],
   "source": []
  }
 ],
 "metadata": {
  "kernelspec": {
   "display_name": "Python 3",
   "language": "python",
   "name": "python3"
  },
  "language_info": {
   "codemirror_mode": {
    "name": "ipython",
    "version": 3
   },
   "file_extension": ".py",
   "mimetype": "text/x-python",
   "name": "python",
   "nbconvert_exporter": "python",
   "pygments_lexer": "ipython3",
   "version": "3.8.5"
  }
 },
 "nbformat": 4,
 "nbformat_minor": 4
}
